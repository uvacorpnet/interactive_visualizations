{
 "cells": [
  {
   "cell_type": "code",
   "execution_count": 1,
   "metadata": {
    "collapsed": true
   },
   "outputs": [],
   "source": [
    "import os\n",
    "import pandas as pd\n",
    "from shutil import copyfile"
   ]
  },
  {
   "cell_type": "code",
   "execution_count": 2,
   "metadata": {
    "collapsed": true
   },
   "outputs": [],
   "source": [
    "#Takes a filename, creates all the files \n",
    "def returnFilter(df,variable_name):\n",
    "    t1 = \"\\nsvg.selectAll(\\\".dot2\\\")\\n\\t.filter(function(d) {{\\n\\t\\tconsole.log(d.{0});\\n\\t\\treturn selected == d.{0};\\n\\n\\t}})\\n\\t.attr(\\\"display\\\", display);\\n\\t}});\\n\\n\\n\".format(variable_name)\n",
    "  \n",
    "    t2 = \"\\t<div id=\\\"filter\\\">\\n\\t\\t<b>{0} Filter:</b><br>\".format(variable_name)\n",
    "    \n",
    "    for i in sorted(list(set(df[variable_name]))):\n",
    "        t2 += \"\\n\\t\\t<input name='v' value=\\\"{0}\\\" type=\\\"checkbox\\\" checked>{0}</input><br>\".format(i)\n",
    "    t2 += \"\\n\\t</div>\"\n",
    "    \n",
    "    return t1,t2\n",
    "    \n",
    "def returnQunatit(df,legends,filename):\n",
    "    t1 = \"<div id=\\\"label\\\"><b>x-Axis:</b></div>\\n\\t<select name=\\\"xAX\\\" id=\\\"xAXs\\\">\"\n",
    "    t2 = \"<div id=\\\"labels\\\"><b>y-Axis:</b></div>\\n\\t<select name=\\\"yAX\\\" id=\\\"yAXs\\\">\"\n",
    "    t0 = \"<form id=\\\"mark\\\">\\n<b>Size of Mark:</b>\\n<div><input type=\\\"radio\\\" name=\\\"sepal\\\" value='reset' checked=\\\"checked\\\">reset</div>\"\n",
    "    axisNames = \"var axisNames = {\"\n",
    "    readData = \"d3.csv(\\\"{0}\\\", function(error, data) {{\\n\\t data.forEach(function(d) {{\".format(filename)\n",
    "    \n",
    "    \n",
    "    \n",
    "    for type_col,col,leg in zip(df.dtypes,df.columns,legends):\n",
    "        if \"float\" in str(type_col) or \"int\" in str(type_col):\n",
    "            t1 += \"\\n\\t\\t<option value =\\\"{0}\\\">{1}</option>\".format(col,leg)\n",
    "            t2 += \"\\n\\t\\t<option value =\\\"{0}\\\">{1}</option>\".format(col,leg)\n",
    "            t0 += \"\\n\\t\\t<div><input type=\\\"radio\\\" name=\\\"sepal\\\" value='{0}'>{1}</div>\".format(col,leg)\n",
    "            axisNames += \"\\n\\t {0}: '{1}',\".format(col,leg)\n",
    "            readData += \"\\n\\t\\td.{0} = +d.{0};\".format(col)\n",
    "    t1 += \"\\n</select>\"\n",
    "    t2 += \"\\n</select>\"\n",
    "    \n",
    "        \n",
    "    axisNames = axisNames[:-1] + \"\\n\\t};\\n\"\n",
    "    readData += \"\\n});\\n\\n\"\n",
    "        \n",
    "    return readData,axisNames, t0,t1,t2\n",
    "\n",
    "def createHTML(name,filename,sep=\"\\t\",column_names = [], legends = [],scale=\"log\",x_col=\"\",y_col=\"\",filterby=\"\",fillby=\"\",label=\"\"):\n",
    "    \n",
    "    #make folder inside visualizations\n",
    "    if not name in os.listdir(\"./visualizations/\"):\n",
    "        os.mkdir(\"./visualizations/{0}\".format(name))\n",
    "    \n",
    "    #copy files from required_file there\n",
    "    for file in os.listdir(\"./visualizations/required_files\"):\n",
    "        copyfile(\"./visualizations/required_files/{0}\".format(file),\"./visualizations/{1}/{0}\".format(file,name))\n",
    "    \n",
    "    copyfile(\"./visualizations/{0}\".format(filename),\"./visualizations/{1}/{0}\".format(filename,name))\n",
    "    \n",
    "    df = pd.read_csv(\"./visualizations/\"+filename,sep=sep,index_col=None)\n",
    "    #normalize that\n",
    "    \n",
    "       \n",
    "    if len(column_names) > 0:\n",
    "        df = df.loc[:,column_names]\n",
    "    \n",
    "    if len(legends) > 0 and len(legends) == len(column_names):\n",
    "        pass\n",
    "    else:\n",
    "        legends = df.columns\n",
    "    \n",
    "\n",
    "    if scale == \"log\":\n",
    "        scale = \"\\nvar x = d3.scale.log().range([0, width]); \\nvar y = d3.scale.log().range([height, 0]);\\n\\n\"\n",
    "    else:\n",
    "        scale = \"\\nvar x = d3.scale.linear().range([0, width]); \\nvar y = d3.scale.linear().range([height, 0]);\\n\\n\"    \n",
    "        \n",
    "    fillby = \"\\n.style(\\\"fill\\\", function(d) {{ return color(d.{0}); }})\".format(fillby)    \n",
    "    label = \"\\n.attr(\\\"id\\\", function(d) {{ return d.{0}; }})\".format(label)        \n",
    "    \n",
    "   \n",
    "    if not x_col or x_col not in df.columns: x_col = df.columns[0]\n",
    "    if not y_col or y_col not in df.columns: y_col = df.columns[1]\n",
    "    \n",
    "    x_and_y = \"x.domain(d3.extent(data, function(d) {{ return d.{0}; }})).nice();\\ny.domain(d3.extent(data, function(d) {{ return d.{1}; }})).nice();\".format(x_col,y_col)\n",
    "    x_and_y_labels = \"\\n\\n\\tsvg.append(\\\"g\\\")\\n\\t\\t.attr(\\\"class\\\", \\\"x axis\\\")\\n\\t\\t.attr(\\\"transform\\\", \\\"translate(0,\\\" + height + \\\")\\\") \\\n",
    "                    \\n\\t\\t.call(xAxis)\\n\\t\\t.append(\\\"text\\\")\\n\\t\\t.attr(\\\"class\\\", \\\"label\\\")\\n\\t\\t.attr(\\\"x\\\", width)\\n\\t\\t.attr(\\\"y\\\", -6)\\n \\\n",
    "                    \\t\\t.style(\\\"text-anchor\\\", \\\"end\\\")\\n\\t\\t.text(\\\"{0}\\\");\\n\\n\\tsvg.append(\\\"g\\\")\\n\\t\\t.attr(\\\"class\\\", \\\"y axis\\\")\\n\\t\\t.call(yAxis)\\n\\t\\t.append(\\\"text\\\") \\\n",
    "                    \\n\\t\\t.attr(\\\"class\\\", \\\"label\\\")\\n\\t\\t.attr(\\\"transform\\\", \\\"rotate(-90)\\\")\\n\\t\\t.attr(\\\"y\\\", 6)\\n\\t\\t.attr(\\\"dy\\\", \\\".71em\\\")\\n\\t\\t.style(\\\"text-anchor\\\", \\\"end\\\") \\\n",
    "                    \\n\\t\\t.text(\\\"{1}\\\");\".format(x_col,y_col)\n",
    "    line = \"\\n\\nvar line = svg.append('line')\\n\\t  .data(data)\\n\\t\\t  .attr(\\\"class\\\", \\\"line\\\")\\n\\t\\t.attr('x1',x(1E-6))\\n\\t\\t.attr('x2',x(0.3))\\n\\t\\t.attr('y1',y(1E-6))\\n\\t\\t.attr('y2',y(0.3))\\n\\t\\t.attr(\\\"stroke-width\\\", 2)\\n\\t\\t.attr(\\\"stroke\\\", \\\"black\\\");\\n\\t\\t\"\n",
    "\n",
    "    circles = \"\\nvar circles = svg.selectAll(\\\".dot\\\")\\n\\t  .data(data)\\n\\t  .enter().append(\\\"circle\\\")\\n  \\\n",
    "                .attr(\\\"class\\\", \\\"dot2\\\")\\n\\t  .attr(\\\"r\\\", 4.5)\\n\\t  .attr(\\\"cx\\\", function(d) {{ return x(d.{0}); }})\\n\\t  .attr(\\\"cy\\\", function(d) {{ return y(d.{1}); }})\\n\\t \\\n",
    "                {2}{3}\\n  .style(\\\"opacity\\\", .8);\\n\\t\".format(x_col,y_col,fillby,label)\n",
    "    \n",
    "    readData,axisNames,t_q0,t_q1,t_q2 = returnQunatit(df,legends,filename)\n",
    "    t_f1,t_f2 = returnFilter(df,filterby)\n",
    "    script = \"</script>\\n<br><br>\\n{0}\\n{1}\\n{2}\\n{3}\\n<br>\\</body>\".format(t_f2,t_q0,t_q1,t_q2)\n",
    "      \n",
    "\n",
    "    html = \"\"\n",
    "    html += open(\"./visualizations/header.txt\").read()\n",
    "    html += scale\n",
    "    html += axisNames\n",
    "    html += open(\"./visualizations/header2.txt\").read()\n",
    "    html += readData\n",
    "    html += x_and_y\n",
    "    html += x_and_y_labels\n",
    "    html += line\n",
    "    html += circles\n",
    "    html += open(\"./visualizations/commonJS.txt\").read()\n",
    "    html += t_f1\n",
    "    html += open(\"./visualizations/commonJS2.txt\").read()\n",
    "    html += script\n",
    "    open(\"./visualizations/{0}/index.html\".format(name),\"w+\").write(html)"
   ]
  },
  {
   "cell_type": "code",
   "execution_count": 4,
   "metadata": {
    "collapsed": false
   },
   "outputs": [],
   "source": [
    "column_names = [\"sumR\", \"nNOTNull\", \"nNull\", \"gdp\", \"averageR\", \"stdR\", \"varR\", \"maxR\", \"gdppp\", \"fanoR\", \"percComp\", \"nOrbis\", \"percComp\", \"completeness\", \"Value\", \"scale\", \"mu\",\"incomeLevel\"]\n",
    "legends =  ['Sum of company revenue',  'Number of available revenues',  'Number of missing revenues',  'gdp', 'Average Revenue', 'Revenue STD', 'Revenue Variance', 'Max revenue', \n",
    "            'gdp per capita', 'Fano factor revenue', 'Ratio available/missing revenues', 'number of companies in Orbis', 'perc of companies with info', \n",
    "            'perc of companies compared with ext. sources', 'number of companies in external sources', 'std fitted lognormal', 'mu fitted lognormal',\"incomeLevel\"]\n",
    "\n",
    "createHTML(\"test\",\"data.pd\",sep=\",\",column_names = column_names, legends = legends, x_col=\"gdp\",y_col=\"sumR\",label=\"country\",fillby=\"incomeLevel\",filterby=\"incomeLevel\")"
   ]
  },
  {
   "cell_type": "code",
   "execution_count": 8,
   "metadata": {
    "collapsed": false
   },
   "outputs": [],
   "source": [
    "column_names = ['scaled_average_real','scaled_completeness_real','scaled_gdp_capita','scale','entr', 'tutt', 'iso2', 'gdp', 'population', 'incomeLevel', 'region',\n",
    "       'country', 'orbis_loc', 'orbis_mean_lin', 'orbis_std_lin', 'orbis_sum',\n",
    "       'num_info_rev_no_sole', 'completeness_real', 'average_real',\n",
    "       'gdp_capita']\n",
    "createHTML(\"test2\",\"data2.pd\",sep=\",\",column_names = column_names,  x_col=\"gdp\",y_col=\"orbis_sum\",label=\"iso2\",fillby=\"incomeLevel\",filterby=\"incomeLevel\")"
   ]
  },
  {
   "cell_type": "code",
   "execution_count": 9,
   "metadata": {
    "collapsed": true
   },
   "outputs": [],
   "source": [
    "column_names = ['iso2', 'gdp', 'population', 'incomeLevel', 'region', 'country', 'orbis_loc', 'orbis_mean_lin', 'orbis_std_lin', 'orbis_sum', 'num_info_rev_no_sole', 'gdp_capita']\n",
    "createHTML(\"test3\",\"data3.pd\",sep=\",\",column_names = column_names,  x_col=\"gdp\",y_col=\"orbis_sum\",label=\"iso2\",fillby=\"incomeLevel\",filterby=\"incomeLevel\")"
   ]
  }
 ],
 "metadata": {
  "kernelspec": {
   "display_name": "Python 3",
   "language": "python",
   "name": "python3"
  },
  "language_info": {
   "codemirror_mode": {
    "name": "ipython",
    "version": 3
   },
   "file_extension": ".py",
   "mimetype": "text/x-python",
   "name": "python",
   "nbconvert_exporter": "python",
   "pygments_lexer": "ipython3",
   "version": "3.5.1"
  }
 },
 "nbformat": 4,
 "nbformat_minor": 0
}
